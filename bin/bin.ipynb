{
 "cells": [
  {
   "cell_type": "code",
   "execution_count": 187,
   "metadata": {},
   "outputs": [
    {
     "name": "stdout",
     "output_type": "stream",
     "text": [
      "created temporary directory /var/folders/r1/ggbq1z014sg_z5rdm9pr8mrr0000gn/T/supertar/tmpgsbmdmfp\n"
     ]
    }
   ],
   "source": [
    "import importlib\n",
    "import st\n",
    "import tempfile\n",
    "import os\n",
    "\n",
    "importlib.reload(st)\n",
    "\n",
    "supertardir = st.SuperTar.SUPERTAR_DIR\n",
    "\n",
    "os.makedirs(supertardir, exist_ok=True)\n",
    "\n",
    "with tempfile.TemporaryDirectory(dir=supertardir) as tmpdirname:\n",
    "    print(\"created temporary directory\", tmpdirname)"
   ]
  },
  {
   "cell_type": "code",
   "execution_count": 155,
   "metadata": {},
   "outputs": [
    {
     "ename": "FileExistsError",
     "evalue": "[Errno 17] File exists: '/var/folders/r1/ggbq1z014sg_z5rdm9pr8mrr0000gn/T/yoyo/bigg123/asdfas'",
     "output_type": "error",
     "traceback": [
      "\u001b[0;31m---------------------------------------------------------------------------\u001b[0m",
      "\u001b[0;31mFileExistsError\u001b[0m                           Traceback (most recent call last)",
      "Cell \u001b[0;32mIn[155], line 1\u001b[0m\n\u001b[0;32m----> 1\u001b[0m os\u001b[39m.\u001b[39;49mmakedirs(st\u001b[39m.\u001b[39;49mSuperTar\u001b[39m.\u001b[39;49mTMPDIR \u001b[39m+\u001b[39;49m \u001b[39m\"\u001b[39;49m\u001b[39myoyo/bigg123/asdfas\u001b[39;49m\u001b[39m\"\u001b[39;49m, exist_ok\u001b[39m=\u001b[39;49m\u001b[39mFalse\u001b[39;49;00m)\n",
      "File \u001b[0;32m<frozen os>:225\u001b[0m, in \u001b[0;36mmakedirs\u001b[0;34m(name, mode, exist_ok)\u001b[0m\n",
      "\u001b[0;31mFileExistsError\u001b[0m: [Errno 17] File exists: '/var/folders/r1/ggbq1z014sg_z5rdm9pr8mrr0000gn/T/yoyo/bigg123/asdfas'"
     ]
    }
   ],
   "source": [
    "os.makedirs(st.SuperTar.TMPDIR + \"yoyo/bigg123/asdfas\", exist_ok=False)"
   ]
  },
  {
   "cell_type": "code",
   "execution_count": 218,
   "metadata": {},
   "outputs": [
    {
     "data": {
      "text/plain": [
       "'dothis'"
      ]
     },
     "execution_count": 218,
     "metadata": {},
     "output_type": "execute_result"
    }
   ],
   "source": [
    "import tarfile\n",
    "import os\n",
    "\n",
    "\n",
    "def list_files_in_tar(tar_path):\n",
    "    with tarfile.open(tar_path, \"r:gz\") as tar:\n",
    "        top_level = set()\n",
    "        for name in tar.getnames():\n",
    "            path_components = name.split(os.sep)\n",
    "            if len(path_components) == 1:\n",
    "                top_level.add(name)\n",
    "            else:\n",
    "                top_level.add(path_components[0])\n",
    "        top_level = list(top_level)\n",
    "\n",
    "        if len(top_level) > 1:\n",
    "            raise Exception(\"Too many top-level directories\")\n",
    "    return top_level[0]\n",
    "\n",
    "\n",
    "list_files_in_tar(\"dothis.tgz\")"
   ]
  },
  {
   "cell_type": "code",
   "execution_count": 208,
   "metadata": {},
   "outputs": [
    {
     "data": {
      "text/plain": [
       "2"
      ]
     },
     "execution_count": 208,
     "metadata": {},
     "output_type": "execute_result"
    }
   ],
   "source": [
    "class Test:\n",
    "    @staticmethod\n",
    "    def test():\n",
    "        return 2\n",
    "\n",
    "    def test2(self):\n",
    "        return 3\n",
    "\n",
    "    def test3(self):\n",
    "        test()\n",
    "\n",
    "\n",
    "Test().test()"
   ]
  },
  {
   "cell_type": "code",
   "execution_count": 183,
   "metadata": {},
   "outputs": [],
   "source": [
    "import tarfile\n",
    "import os\n",
    "\n",
    "if os.path.isfile(\"test.txt\"):\n",
    "    os.remove(\"test.txt\")\n",
    "\n",
    "with tarfile.open(\"a.tgz\", \"r:gz\") as tar:\n",
    "    tar.extractall(\"asdf\")"
   ]
  }
 ],
 "metadata": {
  "kernelspec": {
   "display_name": "Python 3",
   "language": "python",
   "name": "python3"
  },
  "language_info": {
   "codemirror_mode": {
    "name": "ipython",
    "version": 3
   },
   "file_extension": ".py",
   "mimetype": "text/x-python",
   "name": "python",
   "nbconvert_exporter": "python",
   "pygments_lexer": "ipython3",
   "version": "3.11.4"
  },
  "orig_nbformat": 4
 },
 "nbformat": 4,
 "nbformat_minor": 2
}
