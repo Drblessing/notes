{
 "cells": [
  {
   "cell_type": "code",
   "execution_count": null,
   "id": "78f1fd14",
   "metadata": {},
   "outputs": [
    {
     "data": {
      "text/plain": [
       "'prick'"
      ]
     },
     "execution_count": 7,
     "metadata": {},
     "output_type": "execute_result"
    }
   ],
   "source": [
    "import requests\n",
    "\n",
    "CENSOR_LIST = requests.get(\n",
    "    \"https://gist.githubusercontent.com/Drblessing/d7c2908627f3def2962197b45c92e1f5/raw/1ae487029302d8dc7c22997caa36832ae07e7011/censor_list.txt\"\n",
    ")\n",
    "CENSOR_LIST.raise_for_status()\n",
    "CENSOR_LIST = CENSOR_LIST.text.splitlines()\n",
    "\n",
    "\n",
    "CENSOR_LIST[10]"
   ]
  }
 ],
 "metadata": {
  "kernelspec": {
   "display_name": ".venv",
   "language": "python",
   "name": "python3"
  },
  "language_info": {
   "codemirror_mode": {
    "name": "ipython",
    "version": 3
   },
   "file_extension": ".py",
   "mimetype": "text/x-python",
   "name": "python",
   "nbconvert_exporter": "python",
   "pygments_lexer": "ipython3",
   "version": "3.13.5"
  }
 },
 "nbformat": 4,
 "nbformat_minor": 5
}
