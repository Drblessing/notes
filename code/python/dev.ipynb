{
 "cells": [
  {
   "cell_type": "code",
   "execution_count": 4,
   "id": "d36dfabc",
   "metadata": {},
   "outputs": [
    {
     "name": "stdout",
     "output_type": "stream",
     "text": [
      "Random list before sorting: [88, 13, 21, 39, 47, 32, 41, 18, 5, 34, 26, 59, 62, 28, 84, 25, 77, 74, 34, 2]\n",
      "Random list after sorting: [2, 5, 13, 18, 21, 25, 26, 28, 32, 34, 34, 39, 41, 47, 59, 62, 74, 77, 84, 88]\n"
     ]
    }
   ],
   "source": [
    "def quicksort(data):\n",
    "    \"\"\"Sorts a list of numbers using the Quicksort algorithm (divide and conquer).\n",
    "\n",
    "    Args:\n",
    "        data: A list of numbers to be sorted.\n",
    "\n",
    "    Returns:\n",
    "        A new list containing the sorted elements.  Returns an empty list if input is empty.\n",
    "    \"\"\"\n",
    "\n",
    "    if len(data) <= 0:  # Base case: empty list is already sorted\n",
    "        return []\n",
    "\n",
    "    if len(data) == 1: # Base case: list with one element is already sorted\n",
    "        return data\n",
    "\n",
    "    pivot = data[0]  # Choose the first element as the pivot\n",
    "    less = [i for i in data[1:] if i <= pivot]  # Elements less than or equal to the pivot\n",
    "    greater = [i for i in data[1:] if i > pivot]  # Elements greater than the pivot\n",
    "\n",
    "    return quicksort(less) + [pivot] + quicksort(greater)  # Recursive call\n",
    "\n",
    "\n",
    "\n",
    "def quicksort_in_place(data, low, high):\n",
    "    \"\"\"Quicksort implementation that sorts the list in-place.\n",
    "\n",
    "    Args:\n",
    "        data: The list to be sorted.\n",
    "        low: Starting index of the sublist.\n",
    "        high: Ending index of the sublist.\n",
    "    \"\"\"\n",
    "\n",
    "    if low < high:\n",
    "        # Find the partition index, 'pi' such that\n",
    "        # data[pi] is now in its correct position.\n",
    "        pi = partition(data, low, high)\n",
    "\n",
    "        # Sort the elements before and after the pivot\n",
    "        quicksort_in_place(data, low, pi - 1)\n",
    "        quicksort_in_place(data, pi + 1, high)\n",
    "\n",
    "\n",
    "\n",
    "def partition(data, low, high):\n",
    "    \"\"\"Partitions the list around a pivot element.\n",
    "\n",
    "    Args:\n",
    "        data: The list to be partitioned.\n",
    "        low: Starting index of the sublist.\n",
    "        high: Ending index of the sublist.\n",
    "\n",
    "    Returns:\n",
    "        The index of the pivot element after partitioning.\n",
    "    \"\"\"\n",
    "    pivot = data[high]  # Choose the last element as pivot\n",
    "    i = low - 1\n",
    "\n",
    "    for j in range(low, high):\n",
    "        if data[j] <= pivot:\n",
    "            i += 1\n",
    "            data[i], data[j] = data[j], data[i]  # Swap\n",
    "\n",
    "    data[i + 1], data[high] = data[high], data[i + 1]  # Place pivot in correct position\n",
    "    return i + 1\n",
    "\n",
    "\n",
    "\n",
    "\n",
    "\n",
    "# Generate a list of random numbers and sort it\n",
    "import random\n",
    "random_list = [random.randint(1, 100) for _ in range(20)]\n",
    "print(\"Random list before sorting:\", random_list)\n",
    "quicksort_in_place(random_list, 0, len(random_list) - 1)\n",
    "print(\"Random list after sorting:\", random_list)"
   ]
  }
 ],
 "metadata": {
  "kernelspec": {
   "display_name": ".venv",
   "language": "python",
   "name": "python3"
  },
  "language_info": {
   "codemirror_mode": {
    "name": "ipython",
    "version": 3
   },
   "file_extension": ".py",
   "mimetype": "text/x-python",
   "name": "python",
   "nbconvert_exporter": "python",
   "pygments_lexer": "ipython3",
   "version": "3.13.5"
  }
 },
 "nbformat": 4,
 "nbformat_minor": 5
}
