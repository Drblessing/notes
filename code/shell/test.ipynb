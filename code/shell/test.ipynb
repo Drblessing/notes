{
 "cells": [
  {
   "cell_type": "code",
   "execution_count": null,
   "id": "6c2a9fd6",
   "metadata": {},
   "outputs": [
    {
     "data": {
      "text/html": [
       "<pre style=\"white-space:pre;overflow-x:auto;line-height:normal;font-family:Menlo,'DejaVu Sans Mono',consolas,'Courier New',monospace\"> <span style=\"color: #808000; text-decoration-color: #808000\">_</span>   <span style=\"color: #800080; text-decoration-color: #800080\">_</span>      <span style=\"color: #800000; text-decoration-color: #800000\">_</span> <span style=\"color: #008000; text-decoration-color: #008000\">_</span>                             <span style=\"color: #008000; text-decoration-color: #008000\">_</span>     <span style=\"color: #008000; text-decoration-color: #008000\">_</span> <span style=\"color: #000080; text-decoration-color: #000080\">_</span> \n",
       "<span style=\"color: #800000; text-decoration-color: #800000\">|</span> <span style=\"color: #008000; text-decoration-color: #008000\">|</span> <span style=\"color: #000080; text-decoration-color: #000080\">|</span> <span style=\"color: #800000; text-decoration-color: #800000\">|</span> <span style=\"color: #008000; text-decoration-color: #008000\">_</span><span style=\"color: #008080; text-decoration-color: #008080\">_</span><span style=\"color: #000080; text-decoration-color: #000080\">_</span><span style=\"color: #800080; text-decoration-color: #800080\">|</span> <span style=\"color: #808000; text-decoration-color: #808000\">|</span> <span style=\"color: #008080; text-decoration-color: #008080\">|</span> <span style=\"color: #800080; text-decoration-color: #800080\">_</span><span style=\"color: #800000; text-decoration-color: #800000\">_</span><span style=\"color: #808000; text-decoration-color: #808000\">_</span>    <span style=\"color: #800000; text-decoration-color: #800000\">_</span><span style=\"color: #808000; text-decoration-color: #808000\">_</span>      <span style=\"color: #008000; text-decoration-color: #008000\">_</span><span style=\"color: #008080; text-decoration-color: #008080\">_</span><span style=\"color: #000080; text-decoration-color: #000080\">_</span><span style=\"color: #800080; text-decoration-color: #800080\">_</span><span style=\"color: #800000; text-decoration-color: #800000\">_</span>  <span style=\"color: #008080; text-decoration-color: #008080\">_</span> <span style=\"color: #800080; text-decoration-color: #800080\">_</span><span style=\"color: #800000; text-decoration-color: #800000\">_</span><span style=\"color: #808000; text-decoration-color: #808000\">|</span> <span style=\"color: #008080; text-decoration-color: #008080\">|</span> <span style=\"color: #800080; text-decoration-color: #800080\">_</span><span style=\"color: #800000; text-decoration-color: #800000\">_</span><span style=\"color: #808000; text-decoration-color: #808000\">|</span> <span style=\"color: #008080; text-decoration-color: #008080\">|</span> <span style=\"color: #800080; text-decoration-color: #800080\">|</span>\n",
       "<span style=\"color: #800000; text-decoration-color: #800000\">|</span> <span style=\"color: #008000; text-decoration-color: #008000\">|</span><span style=\"color: #008080; text-decoration-color: #008080\">_</span><span style=\"color: #000080; text-decoration-color: #000080\">|</span> <span style=\"color: #800000; text-decoration-color: #800000\">|</span><span style=\"color: #808000; text-decoration-color: #808000\">/</span> <span style=\"color: #008080; text-decoration-color: #008080\">_</span> <span style=\"color: #800080; text-decoration-color: #800080\">\\</span> <span style=\"color: #808000; text-decoration-color: #808000\">|</span> <span style=\"color: #008080; text-decoration-color: #008080\">|</span><span style=\"color: #000080; text-decoration-color: #000080\">/</span> <span style=\"color: #800000; text-decoration-color: #800000\">_</span> <span style=\"color: #008000; text-decoration-color: #008000\">\\</span>   <span style=\"color: #800000; text-decoration-color: #800000\">\\</span> <span style=\"color: #008000; text-decoration-color: #008000\">\\</span> <span style=\"color: #000080; text-decoration-color: #000080\">/</span><span style=\"color: #800080; text-decoration-color: #800080\">\\</span> <span style=\"color: #808000; text-decoration-color: #808000\">/</span> <span style=\"color: #008080; text-decoration-color: #008080\">/</span> <span style=\"color: #800080; text-decoration-color: #800080\">_</span> <span style=\"color: #808000; text-decoration-color: #808000\">\\</span><span style=\"color: #008000; text-decoration-color: #008000\">|</span> <span style=\"color: #000080; text-decoration-color: #000080\">'</span><span style=\"color: #800080; text-decoration-color: #800080\">_</span><span style=\"color: #800000; text-decoration-color: #800000\">_</span><span style=\"color: #808000; text-decoration-color: #808000\">|</span> <span style=\"color: #008080; text-decoration-color: #008080\">|</span><span style=\"color: #000080; text-decoration-color: #000080\">/</span> <span style=\"color: #800000; text-decoration-color: #800000\">_</span><span style=\"color: #808000; text-decoration-color: #808000\">`</span> <span style=\"color: #008080; text-decoration-color: #008080\">|</span> <span style=\"color: #800080; text-decoration-color: #800080\">|</span>\n",
       "<span style=\"color: #800000; text-decoration-color: #800000\">|</span>  <span style=\"color: #008080; text-decoration-color: #008080\">_</span>  <span style=\"color: #800000; text-decoration-color: #800000\">|</span>  <span style=\"color: #008080; text-decoration-color: #008080\">_</span><span style=\"color: #000080; text-decoration-color: #000080\">_</span><span style=\"color: #800080; text-decoration-color: #800080\">/</span> <span style=\"color: #808000; text-decoration-color: #808000\">|</span> <span style=\"color: #008080; text-decoration-color: #008080\">|</span> <span style=\"color: #800080; text-decoration-color: #800080\">(</span><span style=\"color: #800000; text-decoration-color: #800000\">_</span><span style=\"color: #808000; text-decoration-color: #808000\">)</span> <span style=\"color: #008080; text-decoration-color: #008080\">|</span>   <span style=\"color: #808000; text-decoration-color: #808000\">\\</span> <span style=\"color: #008080; text-decoration-color: #008080\">V</span>  <span style=\"color: #800000; text-decoration-color: #800000\">V</span> <span style=\"color: #008000; text-decoration-color: #008000\">/</span> <span style=\"color: #000080; text-decoration-color: #000080\">(</span><span style=\"color: #800080; text-decoration-color: #800080\">_</span><span style=\"color: #800000; text-decoration-color: #800000\">)</span> <span style=\"color: #008000; text-decoration-color: #008000\">|</span> <span style=\"color: #000080; text-decoration-color: #000080\">|</span>  <span style=\"color: #808000; text-decoration-color: #808000\">|</span> <span style=\"color: #008080; text-decoration-color: #008080\">|</span> <span style=\"color: #800080; text-decoration-color: #800080\">(</span><span style=\"color: #800000; text-decoration-color: #800000\">_</span><span style=\"color: #808000; text-decoration-color: #808000\">|</span> <span style=\"color: #008080; text-decoration-color: #008080\">|</span><span style=\"color: #000080; text-decoration-color: #000080\">_</span><span style=\"color: #800080; text-decoration-color: #800080\">|</span>\n",
       "<span style=\"color: #800000; text-decoration-color: #800000\">|</span><span style=\"color: #808000; text-decoration-color: #808000\">_</span><span style=\"color: #008000; text-decoration-color: #008000\">|</span> <span style=\"color: #000080; text-decoration-color: #000080\">|</span><span style=\"color: #800080; text-decoration-color: #800080\">_</span><span style=\"color: #800000; text-decoration-color: #800000\">|</span><span style=\"color: #808000; text-decoration-color: #808000\">\\</span><span style=\"color: #008000; text-decoration-color: #008000\">_</span><span style=\"color: #008080; text-decoration-color: #008080\">_</span><span style=\"color: #000080; text-decoration-color: #000080\">_</span><span style=\"color: #800080; text-decoration-color: #800080\">|</span><span style=\"color: #800000; text-decoration-color: #800000\">_</span><span style=\"color: #808000; text-decoration-color: #808000\">|</span><span style=\"color: #008000; text-decoration-color: #008000\">_</span><span style=\"color: #008080; text-decoration-color: #008080\">|</span><span style=\"color: #000080; text-decoration-color: #000080\">\\</span><span style=\"color: #800080; text-decoration-color: #800080\">_</span><span style=\"color: #800000; text-decoration-color: #800000\">_</span><span style=\"color: #808000; text-decoration-color: #808000\">_</span><span style=\"color: #008000; text-decoration-color: #008000\">(</span> <span style=\"color: #000080; text-decoration-color: #000080\">)</span>   <span style=\"color: #008000; text-decoration-color: #008000\">\\</span><span style=\"color: #008080; text-decoration-color: #008080\">_</span><span style=\"color: #000080; text-decoration-color: #000080\">/</span><span style=\"color: #800080; text-decoration-color: #800080\">\\</span><span style=\"color: #800000; text-decoration-color: #800000\">_</span><span style=\"color: #808000; text-decoration-color: #808000\">/</span> <span style=\"color: #008080; text-decoration-color: #008080\">\\</span><span style=\"color: #000080; text-decoration-color: #000080\">_</span><span style=\"color: #800080; text-decoration-color: #800080\">_</span><span style=\"color: #800000; text-decoration-color: #800000\">_</span><span style=\"color: #808000; text-decoration-color: #808000\">/</span><span style=\"color: #008000; text-decoration-color: #008000\">|</span><span style=\"color: #008080; text-decoration-color: #008080\">_</span><span style=\"color: #000080; text-decoration-color: #000080\">|</span>  <span style=\"color: #808000; text-decoration-color: #808000\">|</span><span style=\"color: #008000; text-decoration-color: #008000\">_</span><span style=\"color: #008080; text-decoration-color: #008080\">|</span><span style=\"color: #000080; text-decoration-color: #000080\">\\</span><span style=\"color: #800080; text-decoration-color: #800080\">_</span><span style=\"color: #800000; text-decoration-color: #800000\">_</span><span style=\"color: #808000; text-decoration-color: #808000\">,</span><span style=\"color: #008000; text-decoration-color: #008000\">_</span><span style=\"color: #008080; text-decoration-color: #008080\">(</span><span style=\"color: #000080; text-decoration-color: #000080\">_</span><span style=\"color: #800080; text-decoration-color: #800080\">)</span>\n",
       "                    <span style=\"color: #008000; text-decoration-color: #008000\">|</span><span style=\"color: #008080; text-decoration-color: #008080\">/</span>                                \n",
       "\n",
       "</pre>\n"
      ],
      "text/plain": [
       " \u001b[33m_\u001b[0m   \u001b[35m_\u001b[0m      \u001b[31m_\u001b[0m \u001b[32m_\u001b[0m                             \u001b[32m_\u001b[0m     \u001b[32m_\u001b[0m \u001b[34m_\u001b[0m \n",
       "\u001b[31m|\u001b[0m \u001b[32m|\u001b[0m \u001b[34m|\u001b[0m \u001b[31m|\u001b[0m \u001b[32m_\u001b[0m\u001b[36m_\u001b[0m\u001b[34m_\u001b[0m\u001b[35m|\u001b[0m \u001b[33m|\u001b[0m \u001b[36m|\u001b[0m \u001b[35m_\u001b[0m\u001b[31m_\u001b[0m\u001b[33m_\u001b[0m    \u001b[31m_\u001b[0m\u001b[33m_\u001b[0m      \u001b[32m_\u001b[0m\u001b[36m_\u001b[0m\u001b[34m_\u001b[0m\u001b[35m_\u001b[0m\u001b[31m_\u001b[0m  \u001b[36m_\u001b[0m \u001b[35m_\u001b[0m\u001b[31m_\u001b[0m\u001b[33m|\u001b[0m \u001b[36m|\u001b[0m \u001b[35m_\u001b[0m\u001b[31m_\u001b[0m\u001b[33m|\u001b[0m \u001b[36m|\u001b[0m \u001b[35m|\u001b[0m\n",
       "\u001b[31m|\u001b[0m \u001b[32m|\u001b[0m\u001b[36m_\u001b[0m\u001b[34m|\u001b[0m \u001b[31m|\u001b[0m\u001b[33m/\u001b[0m \u001b[36m_\u001b[0m \u001b[35m\\\u001b[0m \u001b[33m|\u001b[0m \u001b[36m|\u001b[0m\u001b[34m/\u001b[0m \u001b[31m_\u001b[0m \u001b[32m\\\u001b[0m   \u001b[31m\\\u001b[0m \u001b[32m\\\u001b[0m \u001b[34m/\u001b[0m\u001b[35m\\\u001b[0m \u001b[33m/\u001b[0m \u001b[36m/\u001b[0m \u001b[35m_\u001b[0m \u001b[33m\\\u001b[0m\u001b[32m|\u001b[0m \u001b[34m'\u001b[0m\u001b[35m_\u001b[0m\u001b[31m_\u001b[0m\u001b[33m|\u001b[0m \u001b[36m|\u001b[0m\u001b[34m/\u001b[0m \u001b[31m_\u001b[0m\u001b[33m`\u001b[0m \u001b[36m|\u001b[0m \u001b[35m|\u001b[0m\n",
       "\u001b[31m|\u001b[0m  \u001b[36m_\u001b[0m  \u001b[31m|\u001b[0m  \u001b[36m_\u001b[0m\u001b[34m_\u001b[0m\u001b[35m/\u001b[0m \u001b[33m|\u001b[0m \u001b[36m|\u001b[0m \u001b[35m(\u001b[0m\u001b[31m_\u001b[0m\u001b[33m)\u001b[0m \u001b[36m|\u001b[0m   \u001b[33m\\\u001b[0m \u001b[36mV\u001b[0m  \u001b[31mV\u001b[0m \u001b[32m/\u001b[0m \u001b[34m(\u001b[0m\u001b[35m_\u001b[0m\u001b[31m)\u001b[0m \u001b[32m|\u001b[0m \u001b[34m|\u001b[0m  \u001b[33m|\u001b[0m \u001b[36m|\u001b[0m \u001b[35m(\u001b[0m\u001b[31m_\u001b[0m\u001b[33m|\u001b[0m \u001b[36m|\u001b[0m\u001b[34m_\u001b[0m\u001b[35m|\u001b[0m\n",
       "\u001b[31m|\u001b[0m\u001b[33m_\u001b[0m\u001b[32m|\u001b[0m \u001b[34m|\u001b[0m\u001b[35m_\u001b[0m\u001b[31m|\u001b[0m\u001b[33m\\\u001b[0m\u001b[32m_\u001b[0m\u001b[36m_\u001b[0m\u001b[34m_\u001b[0m\u001b[35m|\u001b[0m\u001b[31m_\u001b[0m\u001b[33m|\u001b[0m\u001b[32m_\u001b[0m\u001b[36m|\u001b[0m\u001b[34m\\\u001b[0m\u001b[35m_\u001b[0m\u001b[31m_\u001b[0m\u001b[33m_\u001b[0m\u001b[32m(\u001b[0m \u001b[34m)\u001b[0m   \u001b[32m\\\u001b[0m\u001b[36m_\u001b[0m\u001b[34m/\u001b[0m\u001b[35m\\\u001b[0m\u001b[31m_\u001b[0m\u001b[33m/\u001b[0m \u001b[36m\\\u001b[0m\u001b[34m_\u001b[0m\u001b[35m_\u001b[0m\u001b[31m_\u001b[0m\u001b[33m/\u001b[0m\u001b[32m|\u001b[0m\u001b[36m_\u001b[0m\u001b[34m|\u001b[0m  \u001b[33m|\u001b[0m\u001b[32m_\u001b[0m\u001b[36m|\u001b[0m\u001b[34m\\\u001b[0m\u001b[35m_\u001b[0m\u001b[31m_\u001b[0m\u001b[33m,\u001b[0m\u001b[32m_\u001b[0m\u001b[36m(\u001b[0m\u001b[34m_\u001b[0m\u001b[35m)\u001b[0m\n",
       "                    \u001b[32m|\u001b[0m\u001b[36m/\u001b[0m                                \n",
       "\n"
      ]
     },
     "metadata": {},
     "output_type": "display_data"
    }
   ],
   "source": [
    "import pyfiglet\n",
    "from rich.console import Console\n",
    "from rich.text import Text\n",
    "import random\n",
    "\n",
    "console = Console()\n",
    "\n",
    "\n",
    "def print_rainbow_text(text: str):\n",
    "    # Generate large ASCII art using pyfiglet\n",
    "    ascii_art = pyfiglet.figlet_format(text)\n",
    "    lines = ascii_art.splitlines()\n",
    "\n",
    "    # Define a list of colors for the rainbow effect.\n",
    "    colors = [\"red\", \"yellow\", \"green\", \"cyan\", \"blue\", \"magenta\"]\n",
    "\n",
    "    # Create a Rich Text object to accumulate the colored text.\n",
    "    rainbow_text = Text()\n",
    "\n",
    "    # Loop through each line and color each character.\n",
    "    for line in lines:\n",
    "        for i, char in enumerate(line):\n",
    "            # Preserve whitespace as is.\n",
    "            if char.isspace():\n",
    "                rainbow_text.append(char)\n",
    "            else:\n",
    "                # Cycle through colors based on the character index.\n",
    "                color = colors[i % len(colors)]\n",
    "                rainbow_text.append(char, style=color)\n",
    "        # Append a newline after each line.\n",
    "        rainbow_text.append(\"\\n\")\n",
    "\n",
    "    # Print the resulting rainbow ASCII art\n",
    "    console.print(rainbow_text)\n",
    "\n",
    "\n",
    "# Example usage:\n",
    "print_rainbow_text(\"Hello, world!\")"
   ]
  }
 ],
 "metadata": {
  "kernelspec": {
   "display_name": ".benv",
   "language": "python",
   "name": "python3"
  },
  "language_info": {
   "codemirror_mode": {
    "name": "ipython",
    "version": 3
   },
   "file_extension": ".py",
   "mimetype": "text/x-python",
   "name": "python",
   "nbconvert_exporter": "python",
   "pygments_lexer": "ipython3",
   "version": "3.13.3"
  }
 },
 "nbformat": 4,
 "nbformat_minor": 5
}
