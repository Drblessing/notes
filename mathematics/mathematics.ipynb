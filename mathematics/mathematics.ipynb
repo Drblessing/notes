{
 "cells": [
  {
   "cell_type": "code",
   "execution_count": 1,
   "id": "3410d575",
   "metadata": {},
   "outputs": [
    {
     "name": "stdout",
     "output_type": "stream",
     "text": [
      "PRIME COUNTING PROGRAM\n",
      "------------------------------\n",
      "Counting primes up to 100,000,000.0\n",
      "Number of primes: 5,761,455\n",
      "The one millionth prime is 15,485,863\n",
      "The one billionth prime is 22,801,763,489\n",
      "The one trillionth prime is 252,097,800,623\n"
     ]
    }
   ],
   "source": [
    "from primesieve import primes, count_primes, nth_prime\n",
    "import numpy as np\n",
    "\n",
    "# Count all of the primes up to a large number, haha\n",
    "LARGE_NUMBER = 1e8\n",
    "print(\"PRIME COUNTING PROGRAM\")\n",
    "print(\"-\" * 30)\n",
    "print(f\"Counting primes up to {LARGE_NUMBER:,}\")\n",
    "print(f\"Number of primes: {count_primes(LARGE_NUMBER):,}\")\n",
    "print(f\"The one millionth prime is {nth_prime(1_000_000):,}\")\n",
    "print(f\"The one billionth prime is {nth_prime(1_000_000_000):,}\")\n",
    "print(f\"The one trillionth prime is {nth_prime(10_000_000_000):,}\")"
   ]
  },
  {
   "cell_type": "code",
   "execution_count": null,
   "id": "5ea4e95a",
   "metadata": {},
   "outputs": [],
   "source": []
  }
 ],
 "metadata": {
  "kernelspec": {
   "display_name": ".venv",
   "language": "python",
   "name": "python3"
  },
  "language_info": {
   "codemirror_mode": {
    "name": "ipython",
    "version": 3
   },
   "file_extension": ".py",
   "mimetype": "text/x-python",
   "name": "python",
   "nbconvert_exporter": "python",
   "pygments_lexer": "ipython3",
   "version": "3.14.0"
  }
 },
 "nbformat": 4,
 "nbformat_minor": 5
}
