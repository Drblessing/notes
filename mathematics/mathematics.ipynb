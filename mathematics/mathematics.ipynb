{
 "cells": [
  {
   "cell_type": "code",
   "execution_count": null,
   "id": "3410d575",
   "metadata": {},
   "outputs": [],
   "source": [
    "from primesieve import primes\n",
    "import numpy as np\n",
    "\n",
    "# Get all primes up to 1 trillion\n",
    "x = primes(1e12)"
   ]
  },
  {
   "cell_type": "code",
   "execution_count": null,
   "id": "d9d6c2c7",
   "metadata": {},
   "outputs": [
    {
     "data": {
      "text/plain": [
       "999999937"
      ]
     },
     "execution_count": 4,
     "metadata": {},
     "output_type": "execute_result"
    }
   ],
   "source": [
    "print(len(x), \"primes\")\n",
    "x.nbytes / 1e9  # in GB"
   ]
  }
 ],
 "metadata": {
  "kernelspec": {
   "display_name": ".venv",
   "language": "python",
   "name": "python3"
  },
  "language_info": {
   "codemirror_mode": {
    "name": "ipython",
    "version": 3
   },
   "file_extension": ".py",
   "mimetype": "text/x-python",
   "name": "python",
   "nbconvert_exporter": "python",
   "pygments_lexer": "ipython3",
   "version": "3.14.0"
  }
 },
 "nbformat": 4,
 "nbformat_minor": 5
}
