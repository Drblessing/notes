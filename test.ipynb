{
 "cells": [
  {
   "cell_type": "code",
   "execution_count": null,
   "id": "bd007861",
   "metadata": {
    "vscode": {
     "languageId": "plaintext"
    }
   },
   "outputs": [],
   "source": [
    "from rich.console import Console\n",
    "from rich.panel import Panel\n",
    "\n",
    "console = Console()\n",
    "text = \"Hello, world!\"\n",
    "\n",
    "# Create a panel with centered text and custom styling.\n",
    "panel = Panel(\n",
    "    text,\n",
    "    title=\"My Message\",          # Optional: title for the panel\n",
    "    subtitle=\"Subtitle Here\",    # Optional: subtitle for extra detail\n",
    "    expand=False,                # Whether the panel should expand to terminal width\n",
    "    border_style=\"green\"         # Color/style of the panel border\n",
    ")\n",
    "\n",
    "console.print(panel)\n"
   ]
  }
 ],
 "metadata": {
  "language_info": {
   "name": "python"
  }
 },
 "nbformat": 4,
 "nbformat_minor": 5
}
