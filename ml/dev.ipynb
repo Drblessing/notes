{
 "cells": [
  {
   "cell_type": "code",
   "execution_count": null,
   "id": "f24bcb4f",
   "metadata": {},
   "outputs": [],
   "source": []
  }
 ],
 "metadata": {
  "kernelspec": {
   "display_name": ".venv",
   "language": "python",
   "name": "python3"
  },
  "language_info": {
   "name": "python",
   "version": "3.13.7"
  }
 },
 "nbformat": 4,
 "nbformat_minor": 5
}
