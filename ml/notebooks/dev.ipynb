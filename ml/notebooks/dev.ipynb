{
 "cells": [
  {
   "cell_type": "code",
   "execution_count": null,
   "id": "8bb90982",
   "metadata": {},
   "outputs": [],
   "source": [
    "from pathlib import Path\n",
    "import os\n",
    "import sys\n",
    "\n",
    "\n",
    "# Get parent of current notebook\n",
    "cur_notebook = Path(os.getcwd())\n",
    "\n",
    "# Load csv file\n",
    "data_path = cur_notebook.parent / \"data\" / \"diabetes.csv\"\n",
    "if not data_path.exists():\n",
    "    print(f\"Data file not found at {data_path}\", file=sys.stderr)\n",
    "    sys.exit(1)\n",
    "\n",
    "import pandas as pd\n",
    "\n",
    "data = pd.read_csv(data_path, index_col=\"patient_id\")\n",
    "\n",
    "data"
   ]
  }
 ],
 "metadata": {
  "kernelspec": {
   "display_name": ".venv",
   "language": "python",
   "name": "python3"
  },
  "language_info": {
   "codemirror_mode": {
    "name": "ipython",
    "version": 3
   },
   "file_extension": ".py",
   "mimetype": "text/x-python",
   "name": "python",
   "nbconvert_exporter": "python",
   "pygments_lexer": "ipython3",
   "version": "3.13.7"
  }
 },
 "nbformat": 4,
 "nbformat_minor": 5
}
